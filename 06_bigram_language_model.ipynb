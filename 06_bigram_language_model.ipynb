{
 "cells": [
  {
   "cell_type": "code",
   "execution_count": 3,
   "id": "20425bd1-21e2-42e4-8136-d9c5ab887a43",
   "metadata": {},
   "outputs": [
    {
     "name": "stdout",
     "output_type": "stream",
     "text": [
      "P('I love machine learning') = 0.00404040404040404\n",
      "P('I enjoy natural language') = 0.0022222222222222222\n"
     ]
    },
    {
     "name": "stderr",
     "output_type": "stream",
     "text": [
      "[nltk_data] Downloading package punkt to C:\\Users\\bhagyavansh\n",
      "[nltk_data]     sethi\\AppData\\Roaming\\nltk_data...\n",
      "[nltk_data]   Package punkt is already up-to-date!\n"
     ]
    }
   ],
   "source": [
    "import nltk\n",
    "from nltk.tokenize import word_tokenize\n",
    "from sklearn.feature_extraction.text import CountVectorizer\n",
    "\n",
    "nltk.download(\"punkt\")\n",
    "\n",
    "corpus = [\n",
    "    \"I love natural language processing\",\n",
    "    \"I love machine learning\",\n",
    "    \"I enjoy learning new things\"\n",
    "]\n",
    "uni_vec = CountVectorizer(lowercase=True)\n",
    "uni_matrix = uni_vec.fit_transform(corpus)\n",
    "uni_counts = dict(zip(uni_vec.get_feature_names_out(),\n",
    "                      uni_matrix.toarray().sum(axis=0)))\n",
    "\n",
    "bi_vec = CountVectorizer(ngram_range=(2,2), lowercase=True)\n",
    "bi_matrix = bi_vec.fit_transform(corpus)\n",
    "bi_counts = dict(zip(bi_vec.get_feature_names_out(),\n",
    "                     bi_matrix.toarray().sum(axis=0)))\n",
    "V = len(uni_counts)\n",
    "def bigram_prob(w1, w2):\n",
    "    return (bi_counts.get(f\"{w1} {w2}\", 0) + 1) / (uni_counts.get(w1, 0) + V)\n",
    "def sentence_prob(sentence):\n",
    "    words = word_tokenize(sentence.lower())\n",
    "    prob = 1\n",
    "    for i in range(len(words)-1):\n",
    "        prob *= bigram_prob(words[i], words[i+1])\n",
    "    return prob\n",
    "\n",
    "print(\"P('I love machine learning') =\", sentence_prob(\"I love machine learning\"))\n",
    "print(\"P('I enjoy natural language') =\", sentence_prob(\"I enjoy natural language\"))\n"
   ]
  },
  {
   "cell_type": "code",
   "execution_count": null,
   "id": "2f980e65-8001-4758-b7b1-3702edf0543c",
   "metadata": {},
   "outputs": [],
   "source": []
  }
 ],
 "metadata": {
  "kernelspec": {
   "display_name": "Python 3 (ipykernel)",
   "language": "python",
   "name": "python3"
  },
  "language_info": {
   "codemirror_mode": {
    "name": "ipython",
    "version": 3
   },
   "file_extension": ".py",
   "mimetype": "text/x-python",
   "name": "python",
   "nbconvert_exporter": "python",
   "pygments_lexer": "ipython3",
   "version": "3.12.4"
  }
 },
 "nbformat": 4,
 "nbformat_minor": 5
}
