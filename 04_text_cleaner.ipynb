{
 "cells": [
  {
   "cell_type": "code",
   "execution_count": 1,
   "id": "e9378636-160d-4849-810d-d0973a3a4b0a",
   "metadata": {},
   "outputs": [
    {
     "name": "stdout",
     "output_type": "stream",
     "text": [
      "After Removing HTML tags, special characters, and extra spaces :\n",
      "Test Page Hello This is a test paragraph with links symbols like . Extra spaces and tabs too.\n"
     ]
    }
   ],
   "source": [
    "import re\n",
    "from bs4 import BeautifulSoup\n",
    "\n",
    "def clean_text(raw_html):\n",
    "    soup = BeautifulSoup(raw_html, \"html.parser\")\n",
    "    text_only = soup.get_text()\n",
    "    text_alpha = re.sub(r'[^a-zA-Z0-9\\s.,]', '', text_only)\n",
    "    cleaned_text = re.sub(r'\\s+', ' ', text_alpha).strip()\n",
    "    return cleaned_text\n",
    "text = \"\"\"\n",
    "<html>\n",
    "<head><title>Test Page</title></head>\n",
    "<body>\n",
    "<h1>Hello!!!</h1>\n",
    "<p>This is a <b>test</b> paragraph with <a href=\"#\">links</a> & symbols like @#$%.</p>\n",
    "<p>    Extra     spaces and tabs too.     </p>\n",
    "</body>\n",
    "</html>\n",
    "\"\"\"\n",
    "cleaned = clean_text(text)\n",
    "print(\"After Removing HTML tags, special characters, and extra spaces :\")\n",
    "print(cleaned)\n"
   ]
  },
  {
   "cell_type": "code",
   "execution_count": null,
   "id": "571b1636-7605-4a68-836b-292abdddc855",
   "metadata": {},
   "outputs": [],
   "source": []
  }
 ],
 "metadata": {
  "kernelspec": {
   "display_name": "Python 3 (ipykernel)",
   "language": "python",
   "name": "python3"
  },
  "language_info": {
   "codemirror_mode": {
    "name": "ipython",
    "version": 3
   },
   "file_extension": ".py",
   "mimetype": "text/x-python",
   "name": "python",
   "nbconvert_exporter": "python",
   "pygments_lexer": "ipython3",
   "version": "3.12.4"
  }
 },
 "nbformat": 4,
 "nbformat_minor": 5
}
