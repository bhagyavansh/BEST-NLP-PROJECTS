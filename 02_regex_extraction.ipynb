{
 "cells": [
  {
   "cell_type": "code",
   "execution_count": 1,
   "id": "b8b66e96-57d2-4a22-81d5-d9d67f5ae77e",
   "metadata": {},
   "outputs": [
    {
     "name": "stdout",
     "output_type": "stream",
     "text": [
      "Emails: ['sharma.teacher123@gmail.com', 'principal_school@yahoo.com', 'mrsharma_edu@yahoo.com']\n",
      "Phones: ['+91-9876543210']\n",
      "Dates: ['12/05/2018', '23-06-2019']\n"
     ]
    }
   ],
   "source": [
    "import re\n",
    "\n",
    "text = \"\"\"\n",
    "On 12/05/2018, Mr. Sharma found a lost puppy.  \n",
    "He immediately called his friend at +91-9876543210 and later sent him an email: sharma.teacher123@gmail.com.  \n",
    "\n",
    "On 23-06-2019, the school principal contacted him from principal_school@yahoo.com.  \n",
    "For records, his alternate contact was 999-888-7777 and email: mrsharma_edu@yahoo.com.  \n",
    "\"\"\"\n",
    "emails = re.findall(r\"[A-Za-z0-9._%+-]+@[A-Za-z0-9.-]+\\.[A-Za-z]{2,}\", text)\n",
    "phones = re.findall(r\"(?:\\+?\\d{1,3}[- ]?)?(?:\\d{3,5}[- ]?)?\\d{6,10}\", text)\n",
    "dates  = re.findall(r\"\\b\\d{1,4}[-/]\\d{1,2}[-/]\\d{1,4}\\b\", text)\n",
    "\n",
    "print(\"Emails:\", emails)\n",
    "print(\"Phones:\", phones)\n",
    "print(\"Dates:\", dates)\n"
   ]
  },
  {
   "cell_type": "code",
   "execution_count": null,
   "id": "bb0c3193-2f74-493a-9e6f-cf2d2a0f0d57",
   "metadata": {},
   "outputs": [],
   "source": []
  }
 ],
 "metadata": {
  "kernelspec": {
   "display_name": "Python 3 (ipykernel)",
   "language": "python",
   "name": "python3"
  },
  "language_info": {
   "codemirror_mode": {
    "name": "ipython",
    "version": 3
   },
   "file_extension": ".py",
   "mimetype": "text/x-python",
   "name": "python",
   "nbconvert_exporter": "python",
   "pygments_lexer": "ipython3",
   "version": "3.12.4"
  }
 },
 "nbformat": 4,
 "nbformat_minor": 5
}
