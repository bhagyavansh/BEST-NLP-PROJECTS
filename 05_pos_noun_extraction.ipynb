{
 "cells": [
  {
   "cell_type": "code",
   "execution_count": 1,
   "id": "f8ac805a-aeae-4210-b744-4c4e5ef4c76f",
   "metadata": {},
   "outputs": [
    {
     "name": "stderr",
     "output_type": "stream",
     "text": [
      "[nltk_data] Downloading package punkt to C:\\Users\\bhagyavansh\n",
      "[nltk_data]     sethi\\AppData\\Roaming\\nltk_data...\n",
      "[nltk_data]   Package punkt is already up-to-date!\n",
      "[nltk_data] Downloading package averaged_perceptron_tagger to\n",
      "[nltk_data]     C:\\Users\\bhagyavansh\n",
      "[nltk_data]     sethi\\AppData\\Roaming\\nltk_data...\n",
      "[nltk_data]   Package averaged_perceptron_tagger is already up-to-\n",
      "[nltk_data]       date!\n"
     ]
    },
    {
     "name": "stdout",
     "output_type": "stream",
     "text": [
      "POS Tags: [('bhagyavansh', 'NN'), ('sethi', 'NN'), ('is', 'VBZ'), ('a', 'DT'), ('Computer', 'NNP'), ('Science', 'NNP'), ('student', 'NN'), ('who', 'WP'), ('loves', 'VBZ'), ('Artificial', 'NNP'), ('Intelligence', 'NNP'), ('and', 'CC'), ('Machine', 'NNP'), ('Learning', 'NNP'), ('.', '.'), ('He', 'PRP'), ('also', 'RB'), ('enjoys', 'VBZ'), ('playing', 'VBG'), ('chess', 'NN'), ('and', 'CC'), ('coding', 'NN'), ('in', 'IN'), ('Python', 'NNP'), ('.', '.')] \n",
      "\n",
      "Noun Phrases:\n",
      "bhagyavansh sethi\n",
      "a Computer Science student\n",
      "Artificial Intelligence\n",
      "Machine Learning\n",
      "chess\n",
      "coding\n",
      "Python\n"
     ]
    }
   ],
   "source": [
    "import nltk\n",
    "from nltk.tokenize import word_tokenize\n",
    "\n",
    "nltk.download('punkt')\n",
    "nltk.download('averaged_perceptron_tagger')\n",
    "\n",
    "text = \"\"\"bhagyavansh sethi is a Computer Science student who loves Artificial Intelligence\n",
    "and Machine Learning. He also enjoys playing chess and coding in Python.\"\"\"\n",
    "\n",
    "tagged = nltk.pos_tag(word_tokenize(text))\n",
    "print(\"POS Tags:\", tagged, \"\\n\")\n",
    "\n",
    "grammar = \"NP: {<DT>?<JJ>*<NN.*>+}\"\n",
    "parser = nltk.RegexpParser(grammar)\n",
    "tree = parser.parse(tagged)\n",
    "\n",
    "print(\"Noun Phrases:\")\n",
    "for subtree in tree.subtrees(lambda t: t.label() == 'NP'):\n",
    "    print(\" \".join(w for w, p in subtree.leaves()))\n"
   ]
  },
  {
   "cell_type": "code",
   "execution_count": null,
   "id": "a6fac77c-6278-4a77-adfb-258f48d39124",
   "metadata": {},
   "outputs": [],
   "source": []
  }
 ],
 "metadata": {
  "kernelspec": {
   "display_name": "Python 3 (ipykernel)",
   "language": "python",
   "name": "python3"
  },
  "language_info": {
   "codemirror_mode": {
    "name": "ipython",
    "version": 3
   },
   "file_extension": ".py",
   "mimetype": "text/x-python",
   "name": "python",
   "nbconvert_exporter": "python",
   "pygments_lexer": "ipython3",
   "version": "3.12.4"
  }
 },
 "nbformat": 4,
 "nbformat_minor": 5
}
