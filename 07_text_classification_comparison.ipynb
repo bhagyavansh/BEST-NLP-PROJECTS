{
 "cells": [
  {
   "cell_type": "code",
   "execution_count": 1,
   "id": "c3ddfb41-a914-4d6e-b964-c85c84c4ce98",
   "metadata": {},
   "outputs": [
    {
     "name": "stdout",
     "output_type": "stream",
     "text": [
      "BoW Accuracy: 0.0\n",
      "TF-IDF Accuracy: 0.5\n"
     ]
    }
   ],
   "source": [
    "from sklearn.feature_extraction.text import CountVectorizer, TfidfVectorizer\n",
    "from sklearn.linear_model import LogisticRegression\n",
    "from sklearn.pipeline import make_pipeline\n",
    "from sklearn.model_selection import train_test_split\n",
    "from sklearn.metrics import accuracy_score\n",
    "docs = [\n",
    "\"I love this movie, it is fantastic and exciting\",\n",
    "\"This film is boring and too long\",\n",
    "\"What a great performance, really enjoyable\",\n",
    "\"Worst movie ever, waste of time\",\n",
    "\"Absolutely wonderful story and acting\",\n",
    "\"Terrible plot and poor direction\"\n",
    "]\n",
    "labels = [1,0,1,0,1,0]\n",
    "X_train, X_test, y_train, y_test = train_test_split(docs, labels, test_size=0.3, random_state=42)\n",
    "bow = make_pipeline(CountVectorizer(), LogisticRegression()).fit(X_train, y_train)\n",
    "print(\"BoW Accuracy:\", accuracy_score(y_test, bow.predict(X_test)))\n",
    "\n",
    "tfidf = make_pipeline(TfidfVectorizer(), LogisticRegression()).fit(X_train, y_train)\n",
    "print(\"TF-IDF Accuracy:\", accuracy_score(y_test, tfidf.predict(X_test)))\n",
    "\n"
   ]
  },
  {
   "cell_type": "code",
   "execution_count": null,
   "id": "09fe461d-09e8-4a42-a806-c215ffcdc3ea",
   "metadata": {},
   "outputs": [],
   "source": []
  }
 ],
 "metadata": {
  "kernelspec": {
   "display_name": "Python 3 (ipykernel)",
   "language": "python",
   "name": "python3"
  },
  "language_info": {
   "codemirror_mode": {
    "name": "ipython",
    "version": 3
   },
   "file_extension": ".py",
   "mimetype": "text/x-python",
   "name": "python",
   "nbconvert_exporter": "python",
   "pygments_lexer": "ipython3",
   "version": "3.12.4"
  }
 },
 "nbformat": 4,
 "nbformat_minor": 5
}
