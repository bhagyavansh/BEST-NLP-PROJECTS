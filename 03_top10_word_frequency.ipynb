{
 "cells": [
  {
   "cell_type": "code",
   "execution_count": 1,
   "id": "dbf1b6ec-84f8-4717-856a-347860694c31",
   "metadata": {},
   "outputs": [
    {
     "name": "stdin",
     "output_type": "stream",
     "text": [
      "Enter your text:  here are ten top words.the words are ten,twenty\n"
     ]
    },
    {
     "name": "stdout",
     "output_type": "stream",
     "text": [
      "\n",
      "Top 10 words:\n",
      "are : 2\n",
      "ten : 2\n",
      "words : 2\n",
      "here : 1\n",
      "top : 1\n",
      "twenty : 1\n"
     ]
    }
   ],
   "source": [
    "from collections import Counter\n",
    "import re\n",
    "\n",
    "text = input(\"Enter your text: \").lower()                 # lowercase\n",
    "words = re.findall(r'\\b[a-z]+\\b', text)                  # keep only words\n",
    "stopwords = {\"the\",\"is\",\"and\",\"a\",\"to\",\"in\",\"of\",\"for\"}  # small stopword list\n",
    "words = [w for w in words if w not in stopwords]\n",
    "\n",
    "top10 = Counter(words).most_common(10)\n",
    "\n",
    "print(\"\\nTop 10 words:\")\n",
    "for word, freq in top10:\n",
    "    print(word, \":\", freq)\n"
   ]
  },
  {
   "cell_type": "code",
   "execution_count": null,
   "id": "bd4e7920-4ac5-4e97-8ab6-426e3a7b5501",
   "metadata": {},
   "outputs": [],
   "source": []
  }
 ],
 "metadata": {
  "kernelspec": {
   "display_name": "Python 3 (ipykernel)",
   "language": "python",
   "name": "python3"
  },
  "language_info": {
   "codemirror_mode": {
    "name": "ipython",
    "version": 3
   },
   "file_extension": ".py",
   "mimetype": "text/x-python",
   "name": "python",
   "nbconvert_exporter": "python",
   "pygments_lexer": "ipython3",
   "version": "3.12.4"
  }
 },
 "nbformat": 4,
 "nbformat_minor": 5
}
